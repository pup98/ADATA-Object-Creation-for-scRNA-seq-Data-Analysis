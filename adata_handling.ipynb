{
 "cells": [
  {
   "attachments": {},
   "cell_type": "markdown",
   "metadata": {},
   "source": [
    "# ADATA object creation from different file formats for Single Cell Sequencing Data Analysis"
   ]
  },
  {
   "cell_type": "code",
   "execution_count": null,
   "metadata": {},
   "outputs": [],
   "source": [
    "!pip3 install leidenalg\n",
    "!pip3 install GEOparse         \n",
    "!pip3 install bbknn"
   ]
  },
  {
   "cell_type": "code",
   "execution_count": null,
   "metadata": {},
   "outputs": [],
   "source": [
    "import numpy as np\n",
    "import pandas as pd\n",
    "import scanpy as sc\n",
    "import os\n",
    "import tarfile\n",
    "import gzip\n",
    "from tqdm import tqdm\n",
    "import GEOparse\n",
    "import anndata\n"
   ]
  },
  {
   "attachments": {},
   "cell_type": "markdown",
   "metadata": {},
   "source": [
    "### When we have seperate mtx, gene and barcode file for each samples"
   ]
  },
  {
   "cell_type": "code",
   "execution_count": 1,
   "metadata": {},
   "outputs": [],
   "source": [
    "# make folders for each sample\n",
    "import os\n",
    "os.mkdir('data/sample1')\n",
    "os.chdir('/import/data/')\n",
    "os.mkdir('data/sample3')\n",
    "os.chdir('/import/data/')\n",
    "os.mkdir('data/sample3')\n",
    "os.chdir('/import/data/')"
   ]
  },
  {
   "cell_type": "code",
   "execution_count": null,
   "metadata": {},
   "outputs": [],
   "source": [
    "os.chdir('/import/data/sample1')\n",
    "!wget 'https://www.ebi.ac.uk/biostudies/files/E-MTAB-9492/PSA1505_PBMC_CD4_CD8_barcodes.tsv'\n",
    "!wget 'https://www.ebi.ac.uk/biostudies/files/E-MTAB-9492/PSA1505_PBMC_CD4_CD8_genes.tsv'\n",
    "!wget 'https://www.ebi.ac.uk/biostudies/files/E-MTAB-9492/PSA1505_PBMC_CD4_CD8_matrix.mtx'"
   ]
  },
  {
   "cell_type": "code",
   "execution_count": null,
   "metadata": {},
   "outputs": [],
   "source": [
    "os.chdir('/import/data')\n",
    "os.chdir('/import/data/sample2')\n",
    "!wget 'https://www.ebi.ac.uk/biostudies/files/E-MTAB-9492/PSA1505_SFMC_CD4_CD8_barcodes.tsv'\n",
    "!wget 'https://www.ebi.ac.uk/biostudies/files/E-MTAB-9492/PSA1505_SFMC_CD4_CD8_genes.tsv'\n",
    "!wget 'https://www.ebi.ac.uk/biostudies/files/E-MTAB-9492/PSA1505_SFMC_CD4_CD8_matrix.mtx'"
   ]
  },
  {
   "cell_type": "code",
   "execution_count": null,
   "metadata": {},
   "outputs": [],
   "source": [
    "os.chdir('/import/data')\n",
    "os.chdir('/import/data/sample3')\n",
    "!wget 'https://www.ebi.ac.uk/biostudies/files/E-MTAB-9492/PSA1607_PBMC_CD4_CD8_barcodes.tsv'\n",
    "!wget 'https://www.ebi.ac.uk/biostudies/files/E-MTAB-9492/PSA1607_PBMC_CD4_CD8_genes.tsv'\n",
    "!wget 'https://www.ebi.ac.uk/biostudies/files/E-MTAB-9492/PSA1607_PBMC_CD4_CD8_matrix.mtx'"
   ]
  },
  {
   "cell_type": "code",
   "execution_count": null,
   "metadata": {},
   "outputs": [],
   "source": [
    "# read files individually\n",
    "# for sc.read_10x_mtx function to work file names must be: matrix.mtx, barcodes.tsv, genes.tsv / or .gz version of the same (compulsorily)\n",
    "path = '/import/data/'\n",
    "out = []\n",
    "for i,folder in enumerate(os.listdir(path)):\n",
    "    if folder.startswith('sample'):\n",
    "        adata = sc.read_10x_mtx(os.path.join(path, folder), var_names = 'gene_symbols', cache = True)\n",
    "        out.append(adata)\n",
    "        print(i, 'done')\n",
    "\n",
    "adata = sc.concat(out)\n",
    "adata"
   ]
  },
  {
   "attachments": {},
   "cell_type": "markdown",
   "metadata": {},
   "source": [
    "### When we have seperate matrix file, barcode and features file for each samples"
   ]
  },
  {
   "cell_type": "code",
   "execution_count": null,
   "metadata": {},
   "outputs": [],
   "source": [
    "os.mkdir('data/')\n",
    "os.chdir('/import/data/')\n",
    "path = '/import/data/SN_MD5534'\n",
    "os.mkdir(path)\n",
    "os.chdir('/import/data/SN_MD5534')"
   ]
  },
  {
   "cell_type": "code",
   "execution_count": null,
   "metadata": {},
   "outputs": [],
   "source": [
    "!wget 'https://www.ncbi.nlm.nih.gov/geo/download/?acc=GSE126836&format=file&file=GSE126836%5FSN%5FMD5534%5Fbarcodes%2Ecsv%2Egz'\n",
    "!wget 'https://www.ncbi.nlm.nih.gov/geo/download/?acc=GSE126836&format=file&file=GSE126836%5FSN%5FMD5534%5Fgenes%2Ecsv%2Egz'\n",
    "!wget 'https://www.ncbi.nlm.nih.gov/geo/download/?acc=GSE126836&format=file&file=GSE126836%5FSN%5FMD5534%5Fmatrix%2Emtx%2Egz'"
   ]
  },
  {
   "cell_type": "code",
   "execution_count": null,
   "metadata": {},
   "outputs": [],
   "source": [
    "os.chdir('/import/data/')\n",
    "path = '/import/data/SN_MD5828'\n",
    "os.mkdir(path)\n",
    "os.chdir('/import/data/SN_MD5828')\n"
   ]
  },
  {
   "cell_type": "code",
   "execution_count": null,
   "metadata": {},
   "outputs": [],
   "source": [
    "!wget 'https://www.ncbi.nlm.nih.gov/geo/download/?acc=GSE126836&format=file&file=GSE126836%5FSN%5FMD5828%5Fbarcodes%2Ecsv%2Egz'\n",
    "!wget 'https://www.ncbi.nlm.nih.gov/geo/download/?acc=GSE126836&format=file&file=GSE126836%5FSN%5FMD5828%5Fgenes%2Ecsv%2Egz'\n",
    "!wget 'https://www.ncbi.nlm.nih.gov/geo/download/?acc=GSE126836&format=file&file=GSE126836%5FSN%5FMD5828%5Fmatrix%2Emtx%2Egz'"
   ]
  },
  {
   "cell_type": "code",
   "execution_count": null,
   "metadata": {},
   "outputs": [],
   "source": [
    "os.chdir('/import/data/')\n",
    "path = '/import/data/SN_MD5840'\n",
    "os.mkdir(path)\n",
    "os.chdir('/import/data/SN_MD58a40')\n"
   ]
  },
  {
   "cell_type": "code",
   "execution_count": null,
   "metadata": {},
   "outputs": [],
   "source": [
    "!wget 'https://www.ncbi.nlm.nih.gov/geo/download/?acc=GSE126836&format=file&file=GSE126836%5FSN%5FMD5840%5Fbarcodes%2Ecsv%2Egz'\n",
    "!wget 'https://www.ncbi.nlm.nih.gov/geo/download/?acc=GSE126836&format=file&file=GSE126836%5FSN%5FMD5840%5Fgenes%2Ecsv%2Egz'\n",
    "!wget 'https://www.ncbi.nlm.nih.gov/geo/download/?acc=GSE126836&format=file&file=GSE126836%5FSN%5FMD5840%5Fmatrix%2Emtx%2Egz'"
   ]
  },
  {
   "cell_type": "code",
   "execution_count": null,
   "metadata": {},
   "outputs": [],
   "source": [
    "path = '/import/data'\n",
    "out = []\n",
    "for i,folder in enumerate(os.listdir(path)):\n",
    "    for file in os.listdir(os.path.join(path, folder)):\n",
    "        loc= f'{path}/{folder}'\n",
    "        if file.startswith(\"m\"):\n",
    "            adata = sc.read_mtx(os.path.join(loc, file))\n",
    "            adata = adata.T\n",
    "        elif file.startswith(\"b\"):\n",
    "            barcodes = pd.read_csv(os.path.join(loc, file),header=0,index_col=0, sep='\\t')\n",
    "            barcodes= barcodes.index.to_numpy()\n",
    "            adata.obs_names=barcodes\n",
    "        elif file.startswith(\"f\"):\n",
    "            genes = pd.read_csv(os.path.join(loc, file),header=0,index_col=0, sep='\\t')\n",
    "            genes = genes.index.to_numpy()\n",
    "            adata.var_names=genes\n",
    "    out.append(adata)\n",
    "    print(i, 'done')\n",
    "\n",
    "\n",
    "'''or can also individually read them'''\n",
    "# adata = sc.read_mtx('/import/data/SN_MD6063/matrix.mtx.gz')\n",
    "# adata = adata.T\n",
    "# barcodes = pd.read_csv('/import/data/SN_MD6063/barcodes.tsv.gz',header=0,index_col=0, sep='\\t')\n",
    "# barcodes= barcodes.index.to_numpy()\n",
    "# adata.obs_names=barcodes\n",
    "\n",
    "# genes = pd.read_csv('/import/data/SN_MD6063/features.tsv.gz',header=0,index_col=0, sep='\\t')\n",
    "# genes = genes.index.to_numpy()\n",
    "# adata.var_names=genes"
   ]
  },
  {
   "cell_type": "code",
   "execution_count": null,
   "metadata": {},
   "outputs": [],
   "source": [
    "adata= sc.concat(out)\n",
    "adata"
   ]
  },
  {
   "attachments": {},
   "cell_type": "markdown",
   "metadata": {},
   "source": [
    "### When we get loom object"
   ]
  },
  {
   "cell_type": "code",
   "execution_count": null,
   "metadata": {},
   "outputs": [],
   "source": [
    "pip install -U loompy\n",
    "import anndata\n",
    "import loompy\n",
    "adata = sc.read_loom(\"files/GSM4274189_CS15_limbbud_rawdata.loom\")\n",
    "adata"
   ]
  },
  {
   "attachments": {},
   "cell_type": "markdown",
   "metadata": {},
   "source": [
    "### When we get h5 object"
   ]
  },
  {
   "cell_type": "code",
   "execution_count": null,
   "metadata": {},
   "outputs": [],
   "source": [
    "adata =  sc.read_10x_h5('file.h5')\n",
    "adata"
   ]
  },
  {
   "attachments": {},
   "cell_type": "markdown",
   "metadata": {},
   "source": [
    "### Working with rds object"
   ]
  },
  {
   "cell_type": "code",
   "execution_count": null,
   "metadata": {},
   "outputs": [],
   "source": [
    "# open terminal from polly offerings and run the following commands\n",
    "# sudo R\n",
    "# install.packages('Seurat')\n",
    "# if (!requireNamespace(\"remotes\", quietly = TRUE)) {\n",
    "#   install.packages(\"remotes\")\n",
    "# }\n",
    "# remotes::install_github(\"mojaveazure/seurat-disk\")"
   ]
  },
  {
   "cell_type": "code",
   "execution_count": null,
   "metadata": {},
   "outputs": [],
   "source": [
    "# change the kernel to R and run the commands\n",
    "library(Seurat)\n",
    "library(SeuratDisk)"
   ]
  },
  {
   "cell_type": "code",
   "execution_count": null,
   "metadata": {},
   "outputs": [],
   "source": [
    "# download the rds object and read it in Seurat\n",
    "path='blish_lab/blish_awilk_covid_seurat.rds'\n",
    "seurat_obj <- readRDS(path)\n",
    "SaveH5Seurat(seurat_obj, filename = \"data.h5Seurat\")\n",
    "Convert(\"data.h5Seurat\", dest = \"h5ad\")"
   ]
  },
  {
   "cell_type": "code",
   "execution_count": null,
   "metadata": {},
   "outputs": [],
   "source": [
    "# change the kernel to python\n",
    "import scanpy as sc\n",
    "adata = sc.read('data.h5ad')\n",
    "adata"
   ]
  },
  {
   "attachments": {},
   "cell_type": "markdown",
   "metadata": {},
   "source": [
    "### When we have tar of tar"
   ]
  },
  {
   "cell_type": "code",
   "execution_count": null,
   "metadata": {},
   "outputs": [],
   "source": [
    "# download the tar file, and rename it accordingly\n",
    "!wget 'https://www.ncbi.nlm.nih.gov/geo/download/?acc=GSE109774&format=file'"
   ]
  },
  {
   "cell_type": "code",
   "execution_count": null,
   "metadata": {},
   "outputs": [],
   "source": [
    "# work with a linux kernel \n",
    "# first untar operation\n",
    "mkdir data\n",
    "tar -xvf GSE109774_RAW.tar -C data\n",
    "# output of this will be a tar.gz"
   ]
  },
  {
   "cell_type": "code",
   "execution_count": null,
   "metadata": {},
   "outputs": [],
   "source": [
    "# change the folder to data\n",
    "# second unzip operation\n",
    "for file in *;do\n",
    "tar -xzvf $file\n",
    "done\n",
    "\n",
    "'''make sure to rename the files as matrix.mtx.gz, barcodes.gz, features.gz'''"
   ]
  },
  {
   "cell_type": "code",
   "execution_count": null,
   "metadata": {},
   "outputs": [],
   "source": [
    "# change the kernel to python and run following code \n",
    "\n",
    "path = '/import/data'\n",
    "out = []\n",
    "for i,folder in enumerate(os.listdir(path)):\n",
    "    if folder.startswith('G'):\n",
    "        adata = sc.read_10x_mtx(os.path.join(path,folder),var_names= 'gene_symbols', cache = True)\n",
    "        adata.obs['sample'] = folder[:10] # this step can vary, as i want to add a column of sample of each cell using string manipulation\n",
    "        out.append(adata)\n",
    "    print(i, 'data ..done !!!!')\n",
    "adata = sc.concat(out)\n",
    "adata"
   ]
  },
  {
   "attachments": {},
   "cell_type": "markdown",
   "metadata": {},
   "source": [
    "### When we have tar object which on unzipping gives us csv files"
   ]
  },
  {
   "cell_type": "code",
   "execution_count": null,
   "metadata": {},
   "outputs": [],
   "source": [
    "# download the tar file and rename it accordingly\n",
    "!wget 'https://www.ncbi.nlm.nih.gov/geo/download/?acc=GSE123904&format=file'"
   ]
  },
  {
   "cell_type": "code",
   "execution_count": null,
   "metadata": {},
   "outputs": [],
   "source": [
    "# change the kernel to linux and untar the file\n",
    "mkdir data\n",
    "tar -xvf GSE123904_RAW.tar -C data\n",
    "# output of the following will be multiple csv files "
   ]
  },
  {
   "cell_type": "code",
   "execution_count": null,
   "metadata": {},
   "outputs": [],
   "source": [
    "# change the kernel to python and run following code: \n",
    "path = '/import/data/'\n",
    "out = []\n",
    "for i, file in enumerate(os.listdir(path)):\n",
    "    if file.startswith(\"GSM\"):\n",
    "        df = pd.read_csv(os.path.join(path,file))\n",
    "        var = pd.DataFrame(df.columns[1:])\n",
    "        var.columns = ['gene_id']\n",
    "        var=var.set_index('gene_id')\n",
    "        obs = pd.DataFrame(df.iloc[:,0])\n",
    "        obs.columns = ['cell_id']\n",
    "        obs=obs.set_index('cell_id')\n",
    "        df_1 = df.drop(['Unnamed: 0'], axis=1)\n",
    "        adata = sc.AnnData(X=df_1,obs=obs,var=var)\n",
    "        adata.obs['sample'] = file[:10]\n",
    "        out.append(adata)\n",
    "        print(i, 'done')"
   ]
  },
  {
   "cell_type": "code",
   "execution_count": null,
   "metadata": {},
   "outputs": [],
   "source": [
    "adata = sc.concat(out)\n",
    "adata"
   ]
  },
  {
   "attachments": {},
   "cell_type": "markdown",
   "metadata": {},
   "source": [
    "### When we have tar object which on unzipping gives matrix, genes, and barcodes directly"
   ]
  },
  {
   "cell_type": "code",
   "execution_count": null,
   "metadata": {},
   "outputs": [],
   "source": [
    "# download the file\n",
    "!wget 'https://www.ncbi.nlm.nih.gov/geo/download/?acc=GSE184117&format=file'"
   ]
  },
  {
   "cell_type": "code",
   "execution_count": 10,
   "metadata": {},
   "outputs": [],
   "source": [
    "mkdir data\n",
    "tar -xvf GSE184117_RAW.tar -C data\n",
    "\n",
    "# output will be like this: \n",
    "\n",
    "'''\n",
    "GSM5578175_H2021_17_Control2.matrix.mtx.gz\n",
    "GSM5578176_H2021_12_Control3.barcodes.tsv.gz\n",
    "GSM5578176_H2021_12_Control3.features.tsv.gz\n",
    "GSM5578176_H2021_12_Control3.matrix.mtx.gz\n",
    "GSM5578177_H2020_9_Presbyosmic1.barcodes.tsv.gz\n",
    "GSM5578177_H2020_9_Presbyosmic1.features.tsv.gz'''"
   ]
  },
  {
   "cell_type": "code",
   "execution_count": null,
   "metadata": {},
   "outputs": [],
   "source": [
    "path = '/import/data/'\n",
    "os.chdir(path)"
   ]
  },
  {
   "cell_type": "code",
   "execution_count": null,
   "metadata": {},
   "outputs": [],
   "source": [
    "out = []\n",
    "for file in files:\n",
    "    out.append(file[:10])\n",
    "print(out)"
   ]
  },
  {
   "cell_type": "code",
   "execution_count": null,
   "metadata": {},
   "outputs": [],
   "source": [
    "out = np.unique(out) # list does not has any method to find unique ....\n",
    "print(out)"
   ]
  },
  {
   "cell_type": "code",
   "execution_count": null,
   "metadata": {},
   "outputs": [],
   "source": [
    "import shutil"
   ]
  },
  {
   "cell_type": "code",
   "execution_count": null,
   "metadata": {},
   "outputs": [],
   "source": [
    "# making directories ... for each GSM\n",
    "for i in range(len(out)):\n",
    "    os.mkdir(out[i])"
   ]
  },
  {
   "cell_type": "code",
   "execution_count": null,
   "metadata": {},
   "outputs": [],
   "source": [
    "# moving genes,features,mtx file to respective folder ...\n",
    "path = '/import/data'\n",
    "for i in range(len(out)):\n",
    "    for file in os.listdir(path):\n",
    "        if file.startswith(out[i]) & file.endswith('.gz'):\n",
    "            sour = f'{path}/{file}'\n",
    "            dest = f'{path}/{out[i]}/{file}'\n",
    "            shutil.move(sour, dest)\n",
    "        \n",
    "'''make sure to rename the files as matrix.mtx.gz, barcodes.gz, features.gz'''"
   ]
  },
  {
   "cell_type": "code",
   "execution_count": null,
   "metadata": {},
   "outputs": [],
   "source": [
    "adata_list = []\n",
    "for i in range(len(out)):\n",
    "    for folder in tqdm(os.listdir(path)):\n",
    "        if folder.startswith('GSM'):\n",
    "            adata = sc.read_10x_mtx(os.path.join(path,folder), var_names = 'gene_symbols', cache= True)\n",
    "            adata.obs['GSMID'] = out[i]\n",
    "            adata_list.append(adata)\n",
    "    print(i+1, 'done')\n",
    "\n",
    "os.chdir('/import')\n",
    "adata = sc.concat(adata_list)\n",
    "adata"
   ]
  },
  {
   "attachments": {},
   "cell_type": "markdown",
   "metadata": {},
   "source": [
    "### When we have tar of h5 object"
   ]
  },
  {
   "cell_type": "code",
   "execution_count": null,
   "metadata": {},
   "outputs": [],
   "source": [
    "# download the file and rename it accordingly\n",
    "!wget 'https://www.ncbi.nlm.nih.gov/geo/download/?acc=GSE168191&format=file'"
   ]
  },
  {
   "cell_type": "code",
   "execution_count": null,
   "metadata": {},
   "outputs": [],
   "source": [
    "# change kernel to bash\n",
    "mkdir data\n",
    "tar -xvf GSE168191_RAW.tar -C data"
   ]
  },
  {
   "cell_type": "code",
   "execution_count": null,
   "metadata": {},
   "outputs": [],
   "source": [
    "# change the kernel to python\n",
    "path = 'data/'\n",
    "out = []\n",
    "for file in tqdm(os.listdir(path)):\n",
    "    adata = sc.read_10x_h5(path + file)\n",
    "    adata.obs['GSMID'] = file[:10]\n",
    "    adata.var_names_make_unique()\n",
    "    out.append(adata)"
   ]
  },
  {
   "cell_type": "code",
   "execution_count": null,
   "metadata": {},
   "outputs": [],
   "source": [
    "adata = sc.concat(out)\n",
    "adata"
   ]
  },
  {
   "attachments": {},
   "cell_type": "markdown",
   "metadata": {},
   "source": [
    "### When we have a text object"
   ]
  },
  {
   "cell_type": "code",
   "execution_count": null,
   "metadata": {},
   "outputs": [],
   "source": [
    "adata = sc.read_text('Lung_Cancer_normalized_log2TPM_matrix.txt.gz').T\n",
    "adata"
   ]
  },
  {
   "attachments": {},
   "cell_type": "markdown",
   "metadata": {},
   "source": [
    "### When we have a csv expresssion object"
   ]
  },
  {
   "cell_type": "code",
   "execution_count": null,
   "metadata": {},
   "outputs": [],
   "source": [
    "adata = sc.read_csv('file.csv', indel_col = 0)\n",
    "adata"
   ]
  },
  {
   "attachments": {},
   "cell_type": "markdown",
   "metadata": {},
   "source": [
    "### When we have a matrix.txt object"
   ]
  },
  {
   "cell_type": "code",
   "execution_count": null,
   "metadata": {},
   "outputs": [],
   "source": [
    "import pandas as pd\n",
    "copunt=pd.read_csv(\"./E-MTAB-9801/raw_counts_matrix.txt\",sep=\"\\t\")\n",
    "adata=sc.AnnData(X=copunt.T)"
   ]
  },
  {
   "attachments": {},
   "cell_type": "markdown",
   "metadata": {},
   "source": [
    "### When we have matrix, gene, barcode object with sdrf metadata (array express)"
   ]
  },
  {
   "cell_type": "code",
   "execution_count": null,
   "metadata": {},
   "outputs": [],
   "source": [
    "# !wget https://www.ebi.ac.uk/biostudies/files/E-MTAB-9816/103471-001-001_barcodes.tsv.gz\n",
    "# !wget https://www.ebi.ac.uk/biostudies/files/E-MTAB-9816/103471-001-001_features.tsv.gz\n",
    "# !wget https://www.ebi.ac.uk/biostudies/files/E-MTAB-9816/103471-001-001_matrix.mtx.gz\n",
    "\n",
    "# !wget https://www.ebi.ac.uk/biostudies/files/E-MTAB-9816/103471-001-002_barcodes.tsv.gz\n",
    "# !wget https://www.ebi.ac.uk/biostudies/files/E-MTAB-9816/103471-001-002_features.tsv.gz\n",
    "# !wget https://www.ebi.ac.uk/biostudies/files/E-MTAB-9816/103471-001-002_matrix.mtx.gz\n",
    "\n",
    "# !wget https://www.ebi.ac.uk/biostudies/files/E-MTAB-9816/103471-001-003_barcodes.tsv.gz\n",
    "# !wget https://www.ebi.ac.uk/biostudies/files/E-MTAB-9816/103471-001-003_features.tsv.gz\n",
    "# !wget https://www.ebi.ac.uk/biostudies/files/E-MTAB-9816/103471-001-003_matrix.mtx.gz\n",
    "\n",
    "# !wget https://www.ebi.ac.uk/biostudies/files/E-MTAB-9816/103471-001-004_barcodes.tsv.gz\n",
    "# !wget https://www.ebi.ac.uk/biostudies/files/E-MTAB-9816/103471-001-004_features.tsv.gz\n",
    "# !wget https://www.ebi.ac.uk/biostudies/files/E-MTAB-9816/103471-001-004_matrix.mtx.gz\n",
    "\n",
    "\n",
    "# !wget https://www.ebi.ac.uk/biostudies/files/E-MTAB-9816/103548-001-004_barcodes.tsv.gz\n",
    "# !wget https://www.ebi.ac.uk/biostudies/files/E-MTAB-9816/103548-001-004_features.tsv.gz\n",
    "# !wget https://www.ebi.ac.uk/biostudies/files/E-MTAB-9816/103548-001-004_matrix.mtx.gz\n",
    "\n",
    "# !wget https://www.ebi.ac.uk/biostudies/files/E-MTAB-9816/103548-001-005_barcodes.tsv.gz\n",
    "# !wget https://www.ebi.ac.uk/biostudies/files/E-MTAB-9816/103548-001-005_features.tsv.gz\n",
    "# !wget https://www.ebi.ac.uk/biostudies/files/E-MTAB-9816/103548-001-005_matrix.mtx.gz\n",
    "\n",
    "# !wget https://www.ebi.ac.uk/biostudies/files/E-MTAB-9816/103548-001-001_barcodes.tsv.gz\n",
    "# !wget https://www.ebi.ac.uk/biostudies/files/E-MTAB-9816/103548-001-001_features.tsv.gz\n",
    "# !wget https://www.ebi.ac.uk/biostudies/files/E-MTAB-9816/103548-001-001_matrix.mtx.gz\n",
    "\n",
    "!wget https://www.ebi.ac.uk/biostudies/files/E-MTAB-9816/E-MTAB-9816.sdrf.txtb"
   ]
  },
  {
   "cell_type": "code",
   "execution_count": null,
   "metadata": {},
   "outputs": [],
   "source": [
    "# Read features and annotation files\n",
    "\n",
    "count=sc.read_mtx(\"103471-001-001_matrix.mtx.gz\")\n",
    "feature=pd.read_csv(\"103471-001-001_features.tsv.gz\",header=None,sep=\"\\t\")\n",
    "cells=pd.read_csv(\"103471-001-001_barcodes.tsv.gz\",sep=\"\\t\",header=None)\n",
    "count1=sc.read_mtx(\"103471-001-002_matrix.mtx.gz\")\n",
    "feature1=pd.read_csv(\"103471-001-002_features.tsv.gz\",header=None,sep=\"\\t\")\n",
    "cells1=pd.read_csv(\"103471-001-002_barcodes.tsv.gz\",sep=\"\\t\",header=None)\n",
    "count2=sc.read_mtx(\"103471-001-003_matrix.mtx.gz\")\n",
    "feature2=pd.read_csv(\"103471-001-003_features.tsv.gz\",header=None,sep=\"\\t\")\n",
    "cells2=pd.read_csv(\"103471-001-003_barcodes.tsv.gz\",sep=\"\\t\",header=None)\n",
    "count3=sc.read_mtx(\"103471-001-004_matrix.mtx.gz\")\n",
    "feature3=pd.read_csv(\"103471-001-004_features.tsv.gz\",header=None,sep=\"\\t\")\n",
    "cells3=pd.read_csv(\"103471-001-004_barcodes.tsv.gz\",sep=\"\\t\",header=None)\n",
    "count4=sc.read_mtx(\"103548-001-004_matrix.mtx.gz\")\n",
    "feature4=pd.read_csv(\"103548-001-004_features.tsv.gz\",header=None,sep=\"\\t\")\n",
    "cells4=pd.read_csv(\"103548-001-004_barcodes.tsv.gz\",sep=\"\\t\",header=None)\n",
    "count5=sc.read_mtx(\"103548-001-001_matrix.mtx.gz\")\n",
    "feature5=pd.read_csv(\"103548-001-001_features.tsv.gz\",header=None,sep=\"\\t\")\n",
    "cells5=pd.read_csv(\"103548-001-001_barcodes.tsv.gz\",sep=\"\\t\",header=None)\n",
    "count6=sc.read_mtx(\"103548-001-005_matrix.mtx.gz\")\n",
    "feature6=pd.read_csv(\"103548-001-005_features.tsv.gz\",header=None,sep=\"\\t\")\n",
    "cells6=pd.read_csv(\"103548-001-005_barcodes.tsv.gz\",sep=\"\\t\",header=None)\n",
    "\n",
    "sdrf=pd.read_csv(\"E-MTAB-9816.sdrf.txt\",sep=\"\\t\")\n"
   ]
  },
  {
   "cell_type": "code",
   "execution_count": null,
   "metadata": {},
   "outputs": [],
   "source": [
    "# sample mapping\n",
    "# will use sample string from download link : 'https://www.ebi.ac.uk/biostudies/files/E-MTAB-9816/103548-001-001_barcodes'\n",
    "ls=[\"103471-001-001\",\"103471-001-002\",\"103471-001-003\",\"103471-001-004\",\"103548-001-004\",\"103548-001-001\",\"103548-001-005\"]"
   ]
  },
  {
   "cell_type": "code",
   "execution_count": null,
   "metadata": {},
   "outputs": [],
   "source": [
    "def create_adata(count,feature,cells,sample):\n",
    "    ad=sc.AnnData(X=count.transpose())\n",
    "    ad.var.index=feature[1].to_list()\n",
    "    ad.obs.index=cells[0].to_list()\n",
    "    ad.var_names_make_unique()\n",
    "    ad.obs[\"sample_map\"]=sample\n",
    "    return ad"
   ]
  },
  {
   "cell_type": "code",
   "execution_count": null,
   "metadata": {},
   "outputs": [],
   "source": [
    "ad1=create_adata(count,feature,cells,\"103471-001-001\")\n",
    "ad2=create_adata(count1,feature1,cells1,\"103471-001-002\")\n",
    "ad3=create_adata(count2,feature2,cells2,\"103471-001-003\")\n",
    "ad4=create_adata(count3,feature3,cells3,\"103471-001-004\")\n",
    "ad5=create_adata(count4,feature4,cells4,\"103548-001-004\")\n",
    "ad6=create_adata(count5,feature5,cells5,\"103548-001-001\")\n",
    "ad7=create_adata(count6,feature6,cells6,\"103548-001-005\")\n",
    "\n",
    "adata_all=ad1.concatenate(ad2,ad3,ad4,ad5,ad6,ad7)"
   ]
  },
  {
   "cell_type": "code",
   "execution_count": null,
   "metadata": {},
   "outputs": [],
   "source": [
    "sdrf[\"sample_map\"]=sdrf[\"Derived Array Data File.3\"].apply(lambda x: x.split(\"_matrix\")[0])\n",
    "col=['Comment[sample barcode size]',\n",
    "       'Comment[single cell isolation]', 'Comment[spike in]',\n",
    "       'Comment[umi barcode offset]', 'Comment[umi barcode read]',\n",
    "       'Comment[umi barcode size]', 'Protocol REF.3', 'Performer',\n",
    "       'Assay Name', 'Technology Type', 'Comment[ENA_EXPERIMENT]', 'Scan Name',\n",
    "       'Comment[SUBMITTED_FILE_NAME]', 'Comment[ENA_RUN]',\n",
    "       'Comment[FASTQ_URI]', 'Protocol REF.4', 'Protocol REF.5',\n",
    "       'Derived Array Data File', 'Comment [Derived ArrayExpress FTP file]',\n",
    "       'Protocol REF.6', 'Protocol REF.7', 'Derived Array Data File.1',\n",
    "       'Comment [Derived ArrayExpress FTP file].1', 'Protocol REF.8',\n",
    "       'Protocol REF.9', 'Derived Array Data File.2',\n",
    "       'Comment [Derived ArrayExpress FTP file].2']\n",
    "sdrf.drop(columns=col,inplace=True)\n",
    "sdrf.drop_duplicates(inplace=True)"
   ]
  },
  {
   "cell_type": "code",
   "execution_count": null,
   "metadata": {},
   "outputs": [],
   "source": [
    "adata_all.obs=adata_all.obs.reset_index().merge(sdrf,how=\"left\",on=\"sample_map\").set_index(\"index\")\n",
    "adata_all.obs.index.name=None\n",
    "adata_all"
   ]
  }
 ],
 "metadata": {
  "kernelspec": {
   "display_name": "eluci_env",
   "language": "python",
   "name": "python3"
  },
  "language_info": {
   "codemirror_mode": {
    "name": "ipython",
    "version": 3
   },
   "file_extension": ".py",
   "mimetype": "text/x-python",
   "name": "python",
   "nbconvert_exporter": "python",
   "pygments_lexer": "ipython3",
   "version": "3.11.3"
  },
  "orig_nbformat": 4
 },
 "nbformat": 4,
 "nbformat_minor": 2
}
